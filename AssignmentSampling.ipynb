{
  "nbformat": 4,
  "nbformat_minor": 0,
  "metadata": {
    "colab": {
      "provenance": []
    },
    "kernelspec": {
      "name": "python3",
      "display_name": "Python 3"
    },
    "language_info": {
      "name": "python"
    }
  },
  "cells": [
    {
      "cell_type": "code",
      "execution_count": 9,
      "metadata": {
        "id": "HHtLXOWs5lEG"
      },
      "outputs": [],
      "source": [
        "import pandas as pd\n",
        "import numpy as np\n",
        "import seaborn as sns\n",
        "import matplotlib.pyplot as plt\n",
        "from imblearn.over_sampling import RandomOverSampler, SMOTE\n",
        "from imblearn.under_sampling import RandomUnderSampler, ClusterCentroids\n",
        "from sklearn.ensemble import RandomForestClassifier, AdaBoostClassifier\n",
        "from sklearn.svm import SVC\n",
        "from sklearn.linear_model import LogisticRegression\n",
        "from sklearn.tree import DecisionTreeClassifier"
      ]
    },
    {
      "cell_type": "code",
      "source": [
        "# Load the dataset\n",
        "url = \"https://raw.githubusercontent.com/AnjulaMehto/Sampling_Assignment/main/Creditcard_data.csv\"\n",
        "data = pd.read_csv(url)"
      ],
      "metadata": {
        "id": "SujVBRwo58x-"
      },
      "execution_count": 10,
      "outputs": []
    },
    {
      "cell_type": "code",
      "source": [
        "# Separate features and target variable\n",
        "X = data.drop(\"Class\", axis=1)\n",
        "y = data[\"Class\"]"
      ],
      "metadata": {
        "id": "UPdJQCiN5rMS"
      },
      "execution_count": 11,
      "outputs": []
    },
    {
      "cell_type": "code",
      "source": [
        "# Convert dataset into balanced class dataset using RandomOverSampler\n",
        "X_over, y_over = RandomOverSampler().fit_resample(X, y)"
      ],
      "metadata": {
        "id": "agD69nuE6PM9"
      },
      "execution_count": 12,
      "outputs": []
    },
    {
      "cell_type": "code",
      "source": [
        "# Plot balanced class dataset graph\n",
        "sns.countplot(x=y_over)\n",
        "plt.title('Balanced Class Dataset')\n",
        "plt.show()"
      ],
      "metadata": {
        "colab": {
          "base_uri": "https://localhost:8080/",
          "height": 472
        },
        "id": "lAs2EGhK6X6N",
        "outputId": "b2dc7c91-7843-4bc0-fadd-1dad240906b1"
      },
      "execution_count": 13,
      "outputs": [
        {
          "output_type": "display_data",
          "data": {
            "text/plain": [
              "<Figure size 640x480 with 1 Axes>"
            ],
            "image/png": "[encoded data removed]"
          },
          "metadata": {}
        }
      ]
    },
    {
      "cell_type": "code",
      "source": [
        "# Split the data into train and test sets\n",
        "X_train, X_test, y_train, y_test = train_test_split(X_over, y_over, test_size=0.3, random_state=42)"
      ],
      "metadata": {
        "id": "20VSbFrI66Ae"
      },
      "execution_count": 14,
      "outputs": []
    },
    {
      "cell_type": "code",
      "source": [
        "# Define ML models\n",
        "models = {\n",
        "    \"Random Forest\": RandomForestClassifier(),\n",
        "    \"SVM\": SVC(),\n",
        "    \"AdaBoost\": AdaBoostClassifier(),\n",
        "    \"Logistic Regression\": LogisticRegression(),\n",
        "    \"Decision Tree\": DecisionTreeClassifier()\n",
        "}\n",
        "\n",
        "# Define sampling techniques\n",
        "samplers = {\n",
        "    \"Simple Random Sampling\": RandomOverSampler(),\n",
        "    \"Stratified Sampling\": RandomOverSampler(),\n",
        "    \"Cluster Sampling\": ClusterCentroids(),\n",
        "    \"Random Over Sampling\": RandomOverSampler(),\n",
        "    \"SMOTE\": SMOTE()\n",
        "}"
      ],
      "metadata": {
        "id": "s9SKU1TV7EtB"
      },
      "execution_count": 18,
      "outputs": []
    },
    {
      "cell_type": "code",
      "source": [
        "# Iterate over models and sampling techniques\n",
        "results = {}\n",
        "for model_name, model in models.items():\n",
        "    for sampler_name, sampler in samplers.items():\n",
        "        X_train_sampled, y_train_sampled = sampler.fit_resample(X_train, y_train)\n",
        "\n",
        "        # Train the model\n",
        "        model.fit(X_train_sampled, y_train_sampled)\n",
        "\n",
        "        # Predict and calculate accuracy\n",
        "        y_pred = model.predict(X_test)\n",
        "        accuracy = accuracy_score(y_test, y_pred)\n",
        "\n",
        "        # Save results\n",
        "        results[(model_name, sampler_name)] = accuracy\n",
        "\n",
        "# Print accuracy values\n",
        "for (model_name, sampler_name), accuracy in results.items():\n",
        "    print(f\"{model_name} with {sampler_name}: {accuracy}\")\n"
      ],
      "metadata": {
        "colab": {
          "base_uri": "https://localhost:8080/"
        },
        "id": "TkFRKe709akX",
        "outputId": "362b87c9-548f-433b-eb50-255aefabf237"
      },
      "execution_count": 16,
      "outputs": [
        {
          "output_type": "stream",
          "name": "stderr",
          "text": [
            "/usr/local/lib/python3.10/dist-packages/sklearn/cluster/_kmeans.py:870: FutureWarning: The default value of `n_init` will change from 10 to 'auto' in 1.4. Set the value of `n_init` explicitly to suppress the warning\n",
            "  warnings.warn(\n",
            "/usr/local/lib/python3.10/dist-packages/sklearn/cluster/_kmeans.py:870: FutureWarning: The default value of `n_init` will change from 10 to 'auto' in 1.4. Set the value of `n_init` explicitly to suppress the warning\n",
            "  warnings.warn(\n",
            "/usr/local/lib/python3.10/dist-packages/sklearn/cluster/_kmeans.py:870: FutureWarning: The default value of `n_init` will change from 10 to 'auto' in 1.4. Set the value of `n_init` explicitly to suppress the warning\n",
            "  warnings.warn(\n",
            "/usr/local/lib/python3.10/dist-packages/sklearn/linear_model/_logistic.py:458: ConvergenceWarning: lbfgs failed to converge (status=1):\n",
            "STOP: TOTAL NO. of ITERATIONS REACHED LIMIT.\n",
            "\n",
            "Increase the number of iterations (max_iter) or scale the data as shown in:\n",
            "    https://scikit-learn.org/stable/modules/preprocessing.html\n",
            "Please also refer to the documentation for alternative solver options:\n",
            "    https://scikit-learn.org/stable/modules/linear_model.html#logistic-regression\n",
            "  n_iter_i = _check_optimize_result(\n",
            "/usr/local/lib/python3.10/dist-packages/sklearn/linear_model/_logistic.py:458: ConvergenceWarning: lbfgs failed to converge (status=1):\n",
            "STOP: TOTAL NO. of ITERATIONS REACHED LIMIT.\n",
            "\n",
            "Increase the number of iterations (max_iter) or scale the data as shown in:\n",
            "    https://scikit-learn.org/stable/modules/preprocessing.html\n",
            "Please also refer to the documentation for alternative solver options:\n",
            "    https://scikit-learn.org/stable/modules/linear_model.html#logistic-regression\n",
            "  n_iter_i = _check_optimize_result(\n",
            "/usr/local/lib/python3.10/dist-packages/sklearn/cluster/_kmeans.py:870: FutureWarning: The default value of `n_init` will change from 10 to 'auto' in 1.4. Set the value of `n_init` explicitly to suppress the warning\n",
            "  warnings.warn(\n",
            "/usr/local/lib/python3.10/dist-packages/sklearn/linear_model/_logistic.py:458: ConvergenceWarning: lbfgs failed to converge (status=1):\n",
            "STOP: TOTAL NO. of ITERATIONS REACHED LIMIT.\n",
            "\n",
            "Increase the number of iterations (max_iter) or scale the data as shown in:\n",
            "    https://scikit-learn.org/stable/modules/preprocessing.html\n",
            "Please also refer to the documentation for alternative solver options:\n",
            "    https://scikit-learn.org/stable/modules/linear_model.html#logistic-regression\n",
            "  n_iter_i = _check_optimize_result(\n",
            "/usr/local/lib/python3.10/dist-packages/sklearn/linear_model/_logistic.py:458: ConvergenceWarning: lbfgs failed to converge (status=1):\n",
            "STOP: TOTAL NO. of ITERATIONS REACHED LIMIT.\n",
            "\n",
            "Increase the number of iterations (max_iter) or scale the data as shown in:\n",
            "    https://scikit-learn.org/stable/modules/preprocessing.html\n",
            "Please also refer to the documentation for alternative solver options:\n",
            "    https://scikit-learn.org/stable/modules/linear_model.html#logistic-regression\n",
            "  n_iter_i = _check_optimize_result(\n",
            "/usr/local/lib/python3.10/dist-packages/sklearn/linear_model/_logistic.py:458: ConvergenceWarning: lbfgs failed to converge (status=1):\n",
            "STOP: TOTAL NO. of ITERATIONS REACHED LIMIT.\n",
            "\n",
            "Increase the number of iterations (max_iter) or scale the data as shown in:\n",
            "    https://scikit-learn.org/stable/modules/preprocessing.html\n",
            "Please also refer to the documentation for alternative solver options:\n",
            "    https://scikit-learn.org/stable/modules/linear_model.html#logistic-regression\n",
            "  n_iter_i = _check_optimize_result(\n",
            "/usr/local/lib/python3.10/dist-packages/sklearn/cluster/_kmeans.py:870: FutureWarning: The default value of `n_init` will change from 10 to 'auto' in 1.4. Set the value of `n_init` explicitly to suppress the warning\n",
            "  warnings.warn(\n"
          ]
        },
        {
          "output_type": "stream",
          "name": "stdout",
          "text": [
            "Random Forest with Simple Random Sampling: 0.9978165938864629\n",
            "Random Forest with Stratified Sampling: 0.9978165938864629\n",
            "Random Forest with Cluster Sampling: 1.0\n",
            "Random Forest with Random Over Sampling: 1.0\n",
            "Random Forest with SMOTE: 0.9978165938864629\n",
            "SVM with Simple Random Sampling: 0.74235807860262\n",
            "SVM with Stratified Sampling: 0.74235807860262\n",
            "SVM with Cluster Sampling: 0.740174672489083\n",
            "SVM with Random Over Sampling: 0.740174672489083\n",
            "SVM with SMOTE: 0.74235807860262\n",
            "AdaBoost with Simple Random Sampling: 1.0\n",
            "AdaBoost with Stratified Sampling: 1.0\n",
            "AdaBoost with Cluster Sampling: 0.9912663755458515\n",
            "AdaBoost with Random Over Sampling: 1.0\n",
            "AdaBoost with SMOTE: 1.0\n",
            "Logistic Regression with Simple Random Sampling: 0.9039301310043668\n",
            "Logistic Regression with Stratified Sampling: 0.9104803493449781\n",
            "Logistic Regression with Cluster Sampling: 0.9104803493449781\n",
            "Logistic Regression with Random Over Sampling: 0.9104803493449781\n",
            "Logistic Regression with SMOTE: 0.9148471615720524\n",
            "Decision Tree with Simple Random Sampling: 0.9912663755458515\n",
            "Decision Tree with Stratified Sampling: 0.9868995633187773\n",
            "Decision Tree with Cluster Sampling: 0.982532751091703\n",
            "Decision Tree with Random Over Sampling: 0.9847161572052402\n",
            "Decision Tree with SMOTE: 0.9890829694323144\n"
          ]
        }
      ]
    },
    {
      "cell_type": "code",
      "source": [
        "# Find the sampling technique that gives the highest accuracy for each model\n",
        "best_sampling = {}\n",
        "for model_name in models.keys():\n",
        "    best_accuracy = 0\n",
        "    best_sampler = None\n",
        "    for sampler_name in samplers.keys():\n",
        "        accuracy = results[(model_name, sampler_name)]\n",
        "        if accuracy > best_accuracy:\n",
        "            best_accuracy = accuracy\n",
        "            best_sampler = sampler_name\n",
        "    best_sampling[model_name] = best_sampler\n",
        "\n",
        "# Print the results\n",
        "for model_name, best_sampler in best_sampling.items():\n",
        "    print(f\"Best sampling technique for {model_name}: {best_sampler}\")"
      ],
      "metadata": {
        "colab": {
          "base_uri": "https://localhost:8080/"
        },
        "id": "_XKNajqPHmFn",
        "outputId": "73b3f1a4-246a-435c-b542-ee12925d6a99"
      },
      "execution_count": 17,
      "outputs": [
        {
          "output_type": "stream",
          "name": "stdout",
          "text": [
            "Best sampling technique for Random Forest: Cluster Sampling\n",
            "Best sampling technique for SVM: Simple Random Sampling\n",
            "Best sampling technique for AdaBoost: Simple Random Sampling\n",
            "Best sampling technique for Logistic Regression: SMOTE\n",
            "Best sampling technique for Decision Tree: Simple Random Sampling\n"
          ]
        }
      ]
    }
  ]
}